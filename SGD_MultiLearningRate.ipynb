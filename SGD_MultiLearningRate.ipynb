{
 "cells": [
  {
   "metadata": {},
   "cell_type": "markdown",
   "source": [
    "# Description:\n",
    "Modified Model with Data Augmented\n",
    "Learning rate = [0.005, 0.001, 0.0005]\n",
    "Optimizer: SGD"
   ],
   "id": "b900fdc1ded7f837"
  },
  {
   "metadata": {
    "id": "847113d0cd4034e6"
   },
   "cell_type": "markdown",
   "source": [
    "1. Import dependency"
   ],
   "id": "847113d0cd4034e6"
  },
  {
   "metadata": {
    "id": "efb1f80b5f47bedd",
    "ExecuteTime": {
     "end_time": "2025-03-15T01:50:01.649635Z",
     "start_time": "2025-03-15T01:49:58.385531Z"
    }
   },
   "cell_type": "code",
   "source": [
    "import torch\n",
    "import torchvision\n",
    "import torchvision.transforms as transforms\n",
    "import torch.nn as nn\n",
    "import torch.optim as optim\n",
    "from torchvision import models\n",
    "from torch.utils.data import Dataset, DataLoader\n",
    "from data_handler import DataHandler\n",
    "import numpy as np\n",
    "import torch.nn.functional as F"
   ],
   "id": "efb1f80b5f47bedd",
   "outputs": [],
   "execution_count": 1
  },
  {
   "metadata": {
    "id": "2cd4077e329f3fed"
   },
   "cell_type": "markdown",
   "source": [
    " 2. Dataset"
   ],
   "id": "2cd4077e329f3fed"
  },
  {
   "metadata": {
    "id": "8aa1c00c212a35a",
    "ExecuteTime": {
     "end_time": "2025-03-15T01:50:01.654934Z",
     "start_time": "2025-03-15T01:50:01.650766Z"
    }
   },
   "cell_type": "code",
   "source": [
    "# 数据集类\n",
    "class CIFAR10Dataset(Dataset):\n",
    "    def __init__(self, data_handler, files, transform=None):\n",
    "        self.data = []\n",
    "        self.labels = []\n",
    "        self.transform = transform\n",
    "\n",
    "        for file in files:\n",
    "            batch = data_handler.unpickle(file)\n",
    "            images = batch[b\"data\"].reshape(-1, 3, 32, 32).astype(np.uint8)\n",
    "            labels = batch[b\"labels\"]\n",
    "            self.data.append(images)\n",
    "            self.labels.extend(labels)\n",
    "\n",
    "        self.data = np.vstack(self.data)\n",
    "\n",
    "    def __len__(self):\n",
    "        return len(self.labels)\n",
    "\n",
    "    def __getitem__(self, idx):\n",
    "        image = self.data[idx]\n",
    "        image = np.transpose(image, (1, 2, 0))\n",
    "        label = self.labels[idx]\n",
    "        if self.transform:\n",
    "            image = self.transform(image)\n",
    "        return image, label\n"
   ],
   "id": "8aa1c00c212a35a",
   "outputs": [],
   "execution_count": 2
  },
  {
   "metadata": {
    "id": "7e7b466896e08482"
   },
   "cell_type": "markdown",
   "source": [
    "3. Data Process"
   ],
   "id": "7e7b466896e08482"
  },
  {
   "metadata": {
    "id": "be0c5fe06f320626",
    "ExecuteTime": {
     "end_time": "2025-03-15T01:50:01.924016Z",
     "start_time": "2025-03-15T01:50:01.654934Z"
    }
   },
   "cell_type": "code",
   "source": [
    "# 数据处理\n",
    "transform = transforms.Compose([\n",
    "    transforms.ToPILImage(),\n",
    "    transforms.RandomHorizontalFlip(),\n",
    "    transforms.RandomCrop(32, padding=4),\n",
    "    transforms.ToTensor(),\n",
    "    transforms.Normalize((0.4914, 0.4822, 0.4465), (0.247, 0.243, 0.261))\n",
    "])\n",
    "\n",
    "data_handler = DataHandler(\".\\\\cifar-10-python\\\\cifar-10-batches-py\\\\\")\n",
    "train_files = [f\"data_batch_{i}\" for i in range(1, 6)]\n",
    "test_files = [\"test_batch\"]\n",
    "\n",
    "train_dataset = CIFAR10Dataset(data_handler, train_files, transform=transform)\n",
    "test_dataset = CIFAR10Dataset(data_handler, test_files, transform=transform)\n",
    "\n",
    "train_loader = DataLoader(train_dataset, batch_size=128, shuffle=True)\n",
    "test_loader = DataLoader(test_dataset, batch_size=128, shuffle=False)\n"
   ],
   "id": "be0c5fe06f320626",
   "outputs": [],
   "execution_count": 3
  },
  {
   "metadata": {
    "id": "efbdf0eb1c0dd9d8"
   },
   "cell_type": "markdown",
   "source": [
    "4. Build Model"
   ],
   "id": "efbdf0eb1c0dd9d8"
  },
  {
   "metadata": {
    "id": "c8bde7ad18aa3c0b",
    "ExecuteTime": {
     "end_time": "2025-03-15T01:50:01.930831Z",
     "start_time": "2025-03-15T01:50:01.924016Z"
    }
   },
   "cell_type": "code",
   "source": [
    "class ResidualBlock(nn.Module):\n",
    "  def __init__(self, in_channels, out_channels, stride=1):\n",
    "    super(ResidualBlock, self).__init__()\n",
    "    # Using 3x3 square kernel, padding=1 ensure that the output size is the same as the input size.\n",
    "    self.conv1 = nn.Conv2d(in_channels, out_channels, kernel_size=3, stride=stride, padding=1, bias=True)\n",
    "    self.bn1 = nn.BatchNorm2d(out_channels)\n",
    "\n",
    "    self.conv2 = nn.Conv2d(out_channels, out_channels, kernel_size=3, stride=1, padding=1, bias=True)\n",
    "    self.bn2 = nn.BatchNorm2d(out_channels)\n",
    "\n",
    "    self.sample = None\n",
    "    if stride != 1 or in_channels != out_channels:\n",
    "      self.sample = nn.Sequential(\n",
    "        nn.Conv2d(in_channels, out_channels, kernel_size=1, stride=stride, bias=True),\n",
    "        nn.BatchNorm2d(out_channels)\n",
    "            )\n",
    "  def forward(self, x):\n",
    "    residualx = x\n",
    "    if self.sample is not None:\n",
    "      residualx = self.sample(x)\n",
    "\n",
    "    out = self.conv1(x)\n",
    "    out = self.bn1(out)\n",
    "    out = nn.ReLU(inplace=True)(out)\n",
    "\n",
    "    out = self.conv2(out)\n",
    "    out = self.bn2(out)\n",
    "    out += residualx\n",
    "    out = nn.ReLU(inplace=True)(out)\n",
    "\n",
    "    return out"
   ],
   "id": "c8bde7ad18aa3c0b",
   "outputs": [],
   "execution_count": 4
  },
  {
   "metadata": {
    "id": "6b6de078e776ac27",
    "ExecuteTime": {
     "end_time": "2025-03-15T01:50:01.943698Z",
     "start_time": "2025-03-15T01:50:01.930831Z"
    }
   },
   "cell_type": "code",
   "source": [
    "class ResNet(nn.Module):\n",
    "  def __init__(self, block, layers, num_classes = 10):\n",
    "    super(ResNet, self).__init__()\n",
    "    self.in_channels = 64\n",
    "    self.conv1 = nn.Conv2d(3, 64, kernel_size=3, stride=1, padding=1, bias=False)\n",
    "    self.bn1 = nn.BatchNorm2d(64)\n",
    "    self.relu = nn.ReLU(inplace=True)\n",
    "    self.maxpool = nn.MaxPool2d(kernel_size=3, stride=2, padding=1)\n",
    "\n",
    "    self.layer1 = self._make_layer(block, 50, layers[0])\n",
    "    self.layer2 = self._make_layer(block, 100, layers[1], stride=2)\n",
    "    self.layer3 = self._make_layer(block, 200, layers[2], stride=2)\n",
    "    # self.layer4 = self._make_layer(block, 336, layers[3], stride=2)\n",
    "    self.layer4 = self._make_layer(block, 200, layers[3], stride=2)\n",
    "    self.layer5 = self._make_layer(block, 200, layers[3], stride=2)\n",
    "\n",
    "    self.avgpool = nn.AdaptiveAvgPool2d((1, 1))\n",
    "    # self.fc = nn.Linear(336, num_classes)\n",
    "    self.fc_1 = nn.Linear(200, 100)\n",
    "    self.fc_2 = nn.Linear(100, 50)\n",
    "    self.fc_3 = nn.Linear(50, num_classes)\n",
    "\n",
    "\n",
    "  def _make_layer(self, block, out_channels, num_blocks, stride=1):\n",
    "    strides = [stride] + [1] * (num_blocks - 1)\n",
    "    layers = []\n",
    "    for stride in strides:\n",
    "      layers.append(block(self.in_channels, out_channels, stride))\n",
    "      self.in_channels = out_channels\n",
    "    return nn.Sequential(*layers)\n",
    "\n",
    "  def forward(self, x):\n",
    "    x = self.conv1(x)\n",
    "    x = self.bn1(x)\n",
    "    x = self.relu(x)\n",
    "    # x = self.maxpool(x)\n",
    "\n",
    "    x = self.layer1(x)\n",
    "    x = self.layer2(x)\n",
    "    x = self.layer3(x)\n",
    "    x = self.layer4(x)\n",
    "\n",
    "    x = self.layer5(x)\n",
    "\n",
    "    x = self.avgpool(x)\n",
    "    x = torch.flatten(x, 1)\n",
    "    # x = self.fc(x)\n",
    "    x = self.relu(self.fc_1(x))\n",
    "    x = self.relu(self.fc_2(x))\n",
    "    x = self.relu(self.fc_3(x))\n",
    "    x = F.log_softmax(x, dim=1)\n",
    "\n",
    "    return x"
   ],
   "id": "6b6de078e776ac27",
   "outputs": [],
   "execution_count": 5
  },
  {
   "cell_type": "code",
   "source": [
    "def train_and_evaluate(model, train_loader, test_loader, optimizer, criterion, num_epochs=10):\n",
    "    device = torch.device('cuda' if torch.cuda.is_available() else 'cpu')\n",
    "    model = model.to(device)\n",
    "\n",
    "    for epoch in range(num_epochs):\n",
    "        model.train()\n",
    "        correct_train = 0\n",
    "        total_train = 0\n",
    "\n",
    "        for images, labels in train_loader:\n",
    "            images, labels = images.to(device), labels.to(device)\n",
    "            optimizer.zero_grad()\n",
    "            outputs = model(images)\n",
    "            loss = criterion(outputs, labels)\n",
    "            loss.backward()\n",
    "            optimizer.step()\n",
    "\n",
    "            _, predicted = torch.max(outputs, 1)\n",
    "            correct_train += (predicted == labels).sum().item()\n",
    "            total_train += labels.size(0)\n",
    "\n",
    "        train_accuracy = 100 * correct_train / total_train\n",
    "        print(f'Epoch {epoch + 1} / {num_epochs} Training Accuracy: {train_accuracy:.2f}%')\n",
    "\n",
    "        # === 测试阶段 ===\n",
    "        model.eval()\n",
    "        correct_test = 0\n",
    "        total_test = 0\n",
    "\n",
    "        with torch.no_grad():\n",
    "            for images, labels in test_loader:\n",
    "                images, labels = images.to(device), labels.to(device)\n",
    "                outputs = model(images)\n",
    "                _, predicted = torch.max(outputs, 1)\n",
    "                correct_test += (predicted == labels).sum().item()\n",
    "                total_test += labels.size(0)\n",
    "\n",
    "        test_accuracy = 100 * correct_test / total_test\n",
    "        print(f'Epoch {epoch + 1} / {num_epochs} Test Accuracy: {test_accuracy:.2f}%')\n",
    "\n",
    "    return train_accuracy, test_accuracy"
   ],
   "metadata": {
    "id": "ox-PP8s4oGMc",
    "ExecuteTime": {
     "end_time": "2025-03-15T01:50:01.950125Z",
     "start_time": "2025-03-15T01:50:01.943698Z"
    }
   },
   "id": "ox-PP8s4oGMc",
   "outputs": [],
   "execution_count": 6
  },
  {
   "cell_type": "code",
   "source": [
    "layers = [2, 2, 2, 2]\n",
    "model = ResNet(ResidualBlock, layers).cuda()\n",
    "criterion = torch.nn.CrossEntropyLoss()\n",
    "\n",
    "from torchsummary import summary\n",
    "summary(model, input_size=(3, 32, 32))"
   ],
   "metadata": {
    "colab": {
     "base_uri": "https://localhost:8080/"
    },
    "id": "OMrHyCinplMp",
    "outputId": "49975aeb-a384-47fd-b4d3-3ecc66c734ac",
    "ExecuteTime": {
     "end_time": "2025-03-15T01:50:02.432299Z",
     "start_time": "2025-03-15T01:50:01.950125Z"
    }
   },
   "id": "OMrHyCinplMp",
   "outputs": [
    {
     "name": "stdout",
     "output_type": "stream",
     "text": [
      "----------------------------------------------------------------\n",
      "        Layer (type)               Output Shape         Param #\n",
      "================================================================\n",
      "            Conv2d-1           [-1, 64, 32, 32]           1,728\n",
      "       BatchNorm2d-2           [-1, 64, 32, 32]             128\n",
      "              ReLU-3           [-1, 64, 32, 32]               0\n",
      "            Conv2d-4           [-1, 50, 32, 32]           3,250\n",
      "       BatchNorm2d-5           [-1, 50, 32, 32]             100\n",
      "            Conv2d-6           [-1, 50, 32, 32]          28,850\n",
      "       BatchNorm2d-7           [-1, 50, 32, 32]             100\n",
      "            Conv2d-8           [-1, 50, 32, 32]          22,550\n",
      "       BatchNorm2d-9           [-1, 50, 32, 32]             100\n",
      "    ResidualBlock-10           [-1, 50, 32, 32]               0\n",
      "           Conv2d-11           [-1, 50, 32, 32]          22,550\n",
      "      BatchNorm2d-12           [-1, 50, 32, 32]             100\n",
      "           Conv2d-13           [-1, 50, 32, 32]          22,550\n",
      "      BatchNorm2d-14           [-1, 50, 32, 32]             100\n",
      "    ResidualBlock-15           [-1, 50, 32, 32]               0\n",
      "           Conv2d-16          [-1, 100, 16, 16]           5,100\n",
      "      BatchNorm2d-17          [-1, 100, 16, 16]             200\n",
      "           Conv2d-18          [-1, 100, 16, 16]          45,100\n",
      "      BatchNorm2d-19          [-1, 100, 16, 16]             200\n",
      "           Conv2d-20          [-1, 100, 16, 16]          90,100\n",
      "      BatchNorm2d-21          [-1, 100, 16, 16]             200\n",
      "    ResidualBlock-22          [-1, 100, 16, 16]               0\n",
      "           Conv2d-23          [-1, 100, 16, 16]          90,100\n",
      "      BatchNorm2d-24          [-1, 100, 16, 16]             200\n",
      "           Conv2d-25          [-1, 100, 16, 16]          90,100\n",
      "      BatchNorm2d-26          [-1, 100, 16, 16]             200\n",
      "    ResidualBlock-27          [-1, 100, 16, 16]               0\n",
      "           Conv2d-28            [-1, 200, 8, 8]          20,200\n",
      "      BatchNorm2d-29            [-1, 200, 8, 8]             400\n",
      "           Conv2d-30            [-1, 200, 8, 8]         180,200\n",
      "      BatchNorm2d-31            [-1, 200, 8, 8]             400\n",
      "           Conv2d-32            [-1, 200, 8, 8]         360,200\n",
      "      BatchNorm2d-33            [-1, 200, 8, 8]             400\n",
      "    ResidualBlock-34            [-1, 200, 8, 8]               0\n",
      "           Conv2d-35            [-1, 200, 8, 8]         360,200\n",
      "      BatchNorm2d-36            [-1, 200, 8, 8]             400\n",
      "           Conv2d-37            [-1, 200, 8, 8]         360,200\n",
      "      BatchNorm2d-38            [-1, 200, 8, 8]             400\n",
      "    ResidualBlock-39            [-1, 200, 8, 8]               0\n",
      "           Conv2d-40            [-1, 200, 4, 4]          40,200\n",
      "      BatchNorm2d-41            [-1, 200, 4, 4]             400\n",
      "           Conv2d-42            [-1, 200, 4, 4]         360,200\n",
      "      BatchNorm2d-43            [-1, 200, 4, 4]             400\n",
      "           Conv2d-44            [-1, 200, 4, 4]         360,200\n",
      "      BatchNorm2d-45            [-1, 200, 4, 4]             400\n",
      "    ResidualBlock-46            [-1, 200, 4, 4]               0\n",
      "           Conv2d-47            [-1, 200, 4, 4]         360,200\n",
      "      BatchNorm2d-48            [-1, 200, 4, 4]             400\n",
      "           Conv2d-49            [-1, 200, 4, 4]         360,200\n",
      "      BatchNorm2d-50            [-1, 200, 4, 4]             400\n",
      "    ResidualBlock-51            [-1, 200, 4, 4]               0\n",
      "           Conv2d-52            [-1, 200, 2, 2]          40,200\n",
      "      BatchNorm2d-53            [-1, 200, 2, 2]             400\n",
      "           Conv2d-54            [-1, 200, 2, 2]         360,200\n",
      "      BatchNorm2d-55            [-1, 200, 2, 2]             400\n",
      "           Conv2d-56            [-1, 200, 2, 2]         360,200\n",
      "      BatchNorm2d-57            [-1, 200, 2, 2]             400\n",
      "    ResidualBlock-58            [-1, 200, 2, 2]               0\n",
      "           Conv2d-59            [-1, 200, 2, 2]         360,200\n",
      "      BatchNorm2d-60            [-1, 200, 2, 2]             400\n",
      "           Conv2d-61            [-1, 200, 2, 2]         360,200\n",
      "      BatchNorm2d-62            [-1, 200, 2, 2]             400\n",
      "    ResidualBlock-63            [-1, 200, 2, 2]               0\n",
      "AdaptiveAvgPool2d-64            [-1, 200, 1, 1]               0\n",
      "           Linear-65                  [-1, 100]          20,100\n",
      "             ReLU-66                  [-1, 100]               0\n",
      "           Linear-67                   [-1, 50]           5,050\n",
      "             ReLU-68                   [-1, 50]               0\n",
      "           Linear-69                   [-1, 10]             510\n",
      "             ReLU-70                   [-1, 10]               0\n",
      "================================================================\n",
      "Total params: 4,698,266\n",
      "Trainable params: 4,698,266\n",
      "Non-trainable params: 0\n",
      "----------------------------------------------------------------\n",
      "Input size (MB): 0.01\n",
      "Forward/backward pass size (MB): 10.07\n",
      "Params size (MB): 17.92\n",
      "Estimated Total Size (MB): 28.01\n",
      "----------------------------------------------------------------\n"
     ]
    }
   ],
   "execution_count": 7
  },
  {
   "metadata": {
    "id": "d00674217f036b38",
    "colab": {
     "base_uri": "https://localhost:8080/"
    },
    "outputId": "f5011327-743f-4bae-8c73-fa6f4875e3e9"
   },
   "cell_type": "code",
   "source": [
    "learning_rates = [0.001]\n",
    "optimizers = ['SGD', 'Adam', 'RMSprop']\n",
    "results = []\n",
    "\n",
    "for lr in learning_rates:\n",
    "    model = ResNet(ResidualBlock, layers).cuda()\n",
    "    optimizer = optim.SGD(model.parameters(), lr=lr)\n",
    "    print(f\"\\nTraining with Adam (lr={lr})...\")\n",
    "    train_acc, test_acc = train_and_evaluate(model, train_loader, test_loader, optimizer, criterion, num_epochs=50)\n",
    "\n",
    "    results.append({\n",
    "        'optimizer': \"Adam\",\n",
    "        'learning_rate': lr,\n",
    "            'train_acc': train_acc,\n",
    "            'test_acc': test_acc\n",
    "    })"
   ],
   "id": "d00674217f036b38",
   "outputs": [],
   "execution_count": null
  },
  {
   "cell_type": "code",
   "source": [
    "print(\"\\n=== All Results ===\")\n",
    "for result in results:\n",
    "    print(f\"Optimizer: {result['optimizer']}, \"\n",
    "          f\"Learning Rate: {result['learning_rate']}, \"\n",
    "          f\"Train Accuracy: {result['train_acc']:.2f}%, \"\n",
    "          f\"Test Accuracy: {result['test_acc']:.2f}%\")"
   ],
   "metadata": {
    "id": "C2LC44YGqaSP",
    "ExecuteTime": {
     "end_time": "2025-03-15T02:47:32.255282Z",
     "start_time": "2025-03-15T02:47:32.251873Z"
    }
   },
   "id": "C2LC44YGqaSP",
   "outputs": [
    {
     "name": "stdout",
     "output_type": "stream",
     "text": [
      "\n",
      "=== All Results ===\n",
      "Optimizer: Adam, Learning Rate: 0.0005, Train Accuracy: 97.41%, Test Accuracy: 89.47%\n"
     ]
    }
   ],
   "execution_count": 11
  },
  {
   "metadata": {
    "ExecuteTime": {
     "end_time": "2025-03-15T02:15:51.484363Z",
     "start_time": "2025-03-15T02:15:51.481333Z"
    }
   },
   "cell_type": "code",
   "source": "",
   "id": "f242b36cbee8d94",
   "outputs": [],
   "execution_count": 9
  }
 ],
 "metadata": {
  "kernelspec": {
   "display_name": "Python 3 (ipykernel)",
   "name": "python3",
   "language": "python"
  },
  "language_info": {
   "codemirror_mode": {
    "name": "ipython",
    "version": 2
   },
   "file_extension": ".py",
   "mimetype": "text/x-python",
   "name": "python",
   "nbconvert_exporter": "python",
   "pygments_lexer": "ipython2",
   "version": "2.7.6"
  },
  "colab": {
   "provenance": [],
   "machine_shape": "hm",
   "gpuType": "T4"
  },
  "accelerator": "GPU"
 },
 "nbformat": 4,
 "nbformat_minor": 5
}
